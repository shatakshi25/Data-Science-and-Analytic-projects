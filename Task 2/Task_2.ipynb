{
  "nbformat": 4,
  "nbformat_minor": 0,
  "metadata": {
    "colab": {
      "name": "Task 2.ipynb",
      "provenance": [],
      "collapsed_sections": []
    },
    "kernelspec": {
      "name": "python3",
      "display_name": "Python 3"
    }
  },
  "cells": [
    {
      "cell_type": "markdown",
      "metadata": {
        "id": "hIUP6d8DVUBF",
        "colab_type": "text"
      },
      "source": [
        "**To Explore Supervised Machine Learning**"
      ]
    },
    {
      "cell_type": "markdown",
      "metadata": {
        "id": "NbUtgj9PVcGV",
        "colab_type": "text"
      },
      "source": [
        "The task given to us is to find - What will be predicted score if a student study for 9.25 hrs in a day?"
      ]
    },
    {
      "cell_type": "markdown",
      "metadata": {
        "id": "UqaPkJMZV7Im",
        "colab_type": "text"
      },
      "source": [
        "Steps:\n",
        "---\n",
        "\n",
        "\n",
        "*   Import all the required libraries\n",
        "*   Collection of data\n",
        "\n",
        "*   Visualization of data\n",
        "*   Segregation of the data for training and testing\n",
        "\n",
        "*   Training the data using Logistic Regression Algorithm\n",
        "*   Testing the data and finding its accuracy\n",
        "\n",
        "*   Predict the Result\n",
        "\n",
        "\n",
        "\n",
        "\n",
        "\n",
        "\n",
        "\n",
        "\n",
        "\n",
        "\n",
        "\n",
        "\n"
      ]
    },
    {
      "cell_type": "markdown",
      "metadata": {
        "id": "SS0oPsyQX5eT",
        "colab_type": "text"
      },
      "source": [
        "**Import all the required libraries**"
      ]
    },
    {
      "cell_type": "code",
      "metadata": {
        "id": "PR4y3CfwWo1U",
        "colab_type": "code",
        "colab": {}
      },
      "source": [
        "# Required libraries\n",
        "import numpy as np\n",
        "import pandas as pd\n",
        "import matplotlib.pyplot as plt\n",
        "import seaborn as sns"
      ],
      "execution_count": 211,
      "outputs": []
    },
    {
      "cell_type": "markdown",
      "metadata": {
        "id": "mD1uwRYeYBIw",
        "colab_type": "text"
      },
      "source": [
        "**Collection of data**"
      ]
    },
    {
      "cell_type": "code",
      "metadata": {
        "id": "DGx3_KVKp52c",
        "colab_type": "code",
        "colab": {}
      },
      "source": [
        "# Reading the CSV file\n",
        "data = pd.read_csv('http://bit.ly/w-data')"
      ],
      "execution_count": 212,
      "outputs": []
    },
    {
      "cell_type": "code",
      "metadata": {
        "id": "dwlVcVhfqF35",
        "colab_type": "code",
        "colab": {
          "base_uri": "https://localhost:8080/",
          "height": 824
        },
        "outputId": "3836e6c6-1213-48c6-c760-3c0b697191a2"
      },
      "source": [
        "# Print data\n",
        "data"
      ],
      "execution_count": 215,
      "outputs": [
        {
          "output_type": "execute_result",
          "data": {
            "text/html": [
              "<div>\n",
              "<style scoped>\n",
              "    .dataframe tbody tr th:only-of-type {\n",
              "        vertical-align: middle;\n",
              "    }\n",
              "\n",
              "    .dataframe tbody tr th {\n",
              "        vertical-align: top;\n",
              "    }\n",
              "\n",
              "    .dataframe thead th {\n",
              "        text-align: right;\n",
              "    }\n",
              "</style>\n",
              "<table border=\"1\" class=\"dataframe\">\n",
              "  <thead>\n",
              "    <tr style=\"text-align: right;\">\n",
              "      <th></th>\n",
              "      <th>Hours</th>\n",
              "      <th>Scores</th>\n",
              "    </tr>\n",
              "  </thead>\n",
              "  <tbody>\n",
              "    <tr>\n",
              "      <th>0</th>\n",
              "      <td>2.50</td>\n",
              "      <td>21</td>\n",
              "    </tr>\n",
              "    <tr>\n",
              "      <th>1</th>\n",
              "      <td>5.10</td>\n",
              "      <td>47</td>\n",
              "    </tr>\n",
              "    <tr>\n",
              "      <th>2</th>\n",
              "      <td>3.20</td>\n",
              "      <td>27</td>\n",
              "    </tr>\n",
              "    <tr>\n",
              "      <th>3</th>\n",
              "      <td>8.50</td>\n",
              "      <td>75</td>\n",
              "    </tr>\n",
              "    <tr>\n",
              "      <th>4</th>\n",
              "      <td>3.50</td>\n",
              "      <td>30</td>\n",
              "    </tr>\n",
              "    <tr>\n",
              "      <th>5</th>\n",
              "      <td>1.50</td>\n",
              "      <td>20</td>\n",
              "    </tr>\n",
              "    <tr>\n",
              "      <th>6</th>\n",
              "      <td>9.20</td>\n",
              "      <td>88</td>\n",
              "    </tr>\n",
              "    <tr>\n",
              "      <th>7</th>\n",
              "      <td>5.50</td>\n",
              "      <td>60</td>\n",
              "    </tr>\n",
              "    <tr>\n",
              "      <th>8</th>\n",
              "      <td>8.30</td>\n",
              "      <td>81</td>\n",
              "    </tr>\n",
              "    <tr>\n",
              "      <th>9</th>\n",
              "      <td>2.70</td>\n",
              "      <td>25</td>\n",
              "    </tr>\n",
              "    <tr>\n",
              "      <th>10</th>\n",
              "      <td>7.70</td>\n",
              "      <td>85</td>\n",
              "    </tr>\n",
              "    <tr>\n",
              "      <th>11</th>\n",
              "      <td>5.90</td>\n",
              "      <td>62</td>\n",
              "    </tr>\n",
              "    <tr>\n",
              "      <th>12</th>\n",
              "      <td>4.50</td>\n",
              "      <td>41</td>\n",
              "    </tr>\n",
              "    <tr>\n",
              "      <th>13</th>\n",
              "      <td>3.30</td>\n",
              "      <td>42</td>\n",
              "    </tr>\n",
              "    <tr>\n",
              "      <th>14</th>\n",
              "      <td>1.10</td>\n",
              "      <td>17</td>\n",
              "    </tr>\n",
              "    <tr>\n",
              "      <th>15</th>\n",
              "      <td>8.90</td>\n",
              "      <td>95</td>\n",
              "    </tr>\n",
              "    <tr>\n",
              "      <th>16</th>\n",
              "      <td>2.50</td>\n",
              "      <td>30</td>\n",
              "    </tr>\n",
              "    <tr>\n",
              "      <th>17</th>\n",
              "      <td>1.90</td>\n",
              "      <td>24</td>\n",
              "    </tr>\n",
              "    <tr>\n",
              "      <th>18</th>\n",
              "      <td>6.10</td>\n",
              "      <td>67</td>\n",
              "    </tr>\n",
              "    <tr>\n",
              "      <th>19</th>\n",
              "      <td>7.40</td>\n",
              "      <td>69</td>\n",
              "    </tr>\n",
              "    <tr>\n",
              "      <th>20</th>\n",
              "      <td>2.70</td>\n",
              "      <td>30</td>\n",
              "    </tr>\n",
              "    <tr>\n",
              "      <th>21</th>\n",
              "      <td>4.80</td>\n",
              "      <td>54</td>\n",
              "    </tr>\n",
              "    <tr>\n",
              "      <th>22</th>\n",
              "      <td>3.80</td>\n",
              "      <td>35</td>\n",
              "    </tr>\n",
              "    <tr>\n",
              "      <th>23</th>\n",
              "      <td>6.90</td>\n",
              "      <td>76</td>\n",
              "    </tr>\n",
              "    <tr>\n",
              "      <th>24</th>\n",
              "      <td>7.80</td>\n",
              "      <td>86</td>\n",
              "    </tr>\n",
              "  </tbody>\n",
              "</table>\n",
              "</div>"
            ],
            "text/plain": [
              "    Hours  Scores\n",
              "0    2.50      21\n",
              "1    5.10      47\n",
              "2    3.20      27\n",
              "3    8.50      75\n",
              "4    3.50      30\n",
              "5    1.50      20\n",
              "6    9.20      88\n",
              "7    5.50      60\n",
              "8    8.30      81\n",
              "9    2.70      25\n",
              "10   7.70      85\n",
              "11   5.90      62\n",
              "12   4.50      41\n",
              "13   3.30      42\n",
              "14   1.10      17\n",
              "15   8.90      95\n",
              "16   2.50      30\n",
              "17   1.90      24\n",
              "18   6.10      67\n",
              "19   7.40      69\n",
              "20   2.70      30\n",
              "21   4.80      54\n",
              "22   3.80      35\n",
              "23   6.90      76\n",
              "24   7.80      86"
            ]
          },
          "metadata": {
            "tags": []
          },
          "execution_count": 215
        }
      ]
    },
    {
      "cell_type": "code",
      "metadata": {
        "id": "Ovr6lvODtfV6",
        "colab_type": "code",
        "colab": {
          "base_uri": "https://localhost:8080/",
          "height": 297
        },
        "outputId": "5b4f162a-8065-4957-abd3-09ae66d1fd50"
      },
      "source": [
        "# Describing the data\n",
        "data.describe()"
      ],
      "execution_count": 160,
      "outputs": [
        {
          "output_type": "execute_result",
          "data": {
            "text/html": [
              "<div>\n",
              "<style scoped>\n",
              "    .dataframe tbody tr th:only-of-type {\n",
              "        vertical-align: middle;\n",
              "    }\n",
              "\n",
              "    .dataframe tbody tr th {\n",
              "        vertical-align: top;\n",
              "    }\n",
              "\n",
              "    .dataframe thead th {\n",
              "        text-align: right;\n",
              "    }\n",
              "</style>\n",
              "<table border=\"1\" class=\"dataframe\">\n",
              "  <thead>\n",
              "    <tr style=\"text-align: right;\">\n",
              "      <th></th>\n",
              "      <th>Hours</th>\n",
              "      <th>Scores</th>\n",
              "    </tr>\n",
              "  </thead>\n",
              "  <tbody>\n",
              "    <tr>\n",
              "      <th>count</th>\n",
              "      <td>25.00</td>\n",
              "      <td>25.00</td>\n",
              "    </tr>\n",
              "    <tr>\n",
              "      <th>mean</th>\n",
              "      <td>5.01</td>\n",
              "      <td>51.48</td>\n",
              "    </tr>\n",
              "    <tr>\n",
              "      <th>std</th>\n",
              "      <td>2.53</td>\n",
              "      <td>25.29</td>\n",
              "    </tr>\n",
              "    <tr>\n",
              "      <th>min</th>\n",
              "      <td>1.10</td>\n",
              "      <td>17.00</td>\n",
              "    </tr>\n",
              "    <tr>\n",
              "      <th>25%</th>\n",
              "      <td>2.70</td>\n",
              "      <td>30.00</td>\n",
              "    </tr>\n",
              "    <tr>\n",
              "      <th>50%</th>\n",
              "      <td>4.80</td>\n",
              "      <td>47.00</td>\n",
              "    </tr>\n",
              "    <tr>\n",
              "      <th>75%</th>\n",
              "      <td>7.40</td>\n",
              "      <td>75.00</td>\n",
              "    </tr>\n",
              "    <tr>\n",
              "      <th>max</th>\n",
              "      <td>9.20</td>\n",
              "      <td>95.00</td>\n",
              "    </tr>\n",
              "  </tbody>\n",
              "</table>\n",
              "</div>"
            ],
            "text/plain": [
              "       Hours  Scores\n",
              "count  25.00   25.00\n",
              "mean    5.01   51.48\n",
              "std     2.53   25.29\n",
              "min     1.10   17.00\n",
              "25%     2.70   30.00\n",
              "50%     4.80   47.00\n",
              "75%     7.40   75.00\n",
              "max     9.20   95.00"
            ]
          },
          "metadata": {
            "tags": []
          },
          "execution_count": 160
        }
      ]
    },
    {
      "cell_type": "markdown",
      "metadata": {
        "id": "cPLEOLQIYV-w",
        "colab_type": "text"
      },
      "source": [
        "**Visualization of data**"
      ]
    },
    {
      "cell_type": "code",
      "metadata": {
        "id": "xJlHPlOQs0_d",
        "colab_type": "code",
        "colab": {
          "base_uri": "https://localhost:8080/",
          "height": 295
        },
        "outputId": "2e2b6746-e26e-41db-a36b-0638b41ea0e4"
      },
      "source": [
        "# Plotting the graph\n",
        "# x-axis values \n",
        "x = data['Hours']\n",
        "# y-axis values \n",
        "y = data['Scores']\n",
        "\n",
        "# plotting points as a scatter plot \n",
        "plt.scatter(x, y, label= \"Data points\", color= \"green\", marker= \"*\", s=30) \n",
        "\n",
        "# x-axis label \n",
        "plt.xlabel('Hours studied') \n",
        "# frequency label \n",
        "plt.ylabel('Student Scores') \n",
        "# plot title \n",
        "plt.title('Hours vs Scores') \n",
        "# showing grid\n",
        "plt.grid()\n",
        "plt.rcParams['axes.facecolor'] = '#FFFF00'\n",
        "# function to show the plot \n",
        "plt.show() \n",
        "\n"
      ],
      "execution_count": 162,
      "outputs": [
        {
          "output_type": "display_data",
          "data": {
            "image/png": "[encoded data removed]",
            "text/plain": [
              "<Figure size 432x288 with 1 Axes>"
            ]
          },
          "metadata": {
            "tags": [],
            "needs_background": "light"
          }
        }
      ]
    },
    {
      "cell_type": "code",
      "metadata": {
        "id": "YQuJeDvzyUQ5",
        "colab_type": "code",
        "colab": {
          "base_uri": "https://localhost:8080/",
          "height": 286
        },
        "outputId": "4c9ca22b-8bdb-47bc-c3ff-e3256621bfd2"
      },
      "source": [
        "#To find the corelation between the number of hours studied and scores obtained\n",
        "relation = data.corr()\n",
        "sns.heatmap(relation, annot=True, cmap='summer') \n",
        "plt.show()\n",
        "print('From the graph, we can refer that there is 98% corelation between Hours and Scores')"
      ],
      "execution_count": 163,
      "outputs": [
        {
          "output_type": "display_data",
          "data": {
            "image/png": "[encoded data removed]",
            "text/plain": [
              "<Figure size 432x288 with 2 Axes>"
            ]
          },
          "metadata": {
            "tags": [],
            "needs_background": "light"
          }
        },
        {
          "output_type": "stream",
          "text": [
            "From the graph, we can refer that there is 98% corelation between Hours and Scores\n"
          ],
          "name": "stdout"
        }
      ]
    },
    {
      "cell_type": "markdown",
      "metadata": {
        "id": "8mvT9SLyYcaT",
        "colab_type": "text"
      },
      "source": [
        "**Segregation of the data for training and testing**"
      ]
    },
    {
      "cell_type": "code",
      "metadata": {
        "id": "GenU5mfyuJ-C",
        "colab_type": "code",
        "colab": {}
      },
      "source": [
        "# Classification of data\n",
        "x = data.iloc[:, :-1].values  \n",
        "y = data.iloc[:, 1].values"
      ],
      "execution_count": 164,
      "outputs": []
    },
    {
      "cell_type": "code",
      "metadata": {
        "id": "5rs6qVxvyJwC",
        "colab_type": "code",
        "colab": {}
      },
      "source": [
        "# Spliting the data for training and testing\n",
        "from sklearn.model_selection import train_test_split \n",
        "X_train, X_test, y_train, y_test = train_test_split(x, y, test_size=0.2, random_state=0)"
      ],
      "execution_count": 165,
      "outputs": []
    },
    {
      "cell_type": "markdown",
      "metadata": {
        "id": "0yvThOz4YjUn",
        "colab_type": "text"
      },
      "source": [
        "**Training the data using Logistic Regression Algorithm**"
      ]
    },
    {
      "cell_type": "code",
      "metadata": {
        "id": "OSVv3Zw--mh1",
        "colab_type": "code",
        "colab": {
          "base_uri": "https://localhost:8080/",
          "height": 34
        },
        "outputId": "49f64b31-c5ed-4a85-b842-e3c21313ac8f"
      },
      "source": [
        "# Fitting the data in the model\n",
        "from sklearn.linear_model import LinearRegression  \n",
        "model = LinearRegression()  \n",
        "model.fit(X_train, y_train) "
      ],
      "execution_count": 166,
      "outputs": [
        {
          "output_type": "execute_result",
          "data": {
            "text/plain": [
              "LinearRegression(copy_X=True, fit_intercept=True, n_jobs=None, normalize=False)"
            ]
          },
          "metadata": {
            "tags": []
          },
          "execution_count": 166
        }
      ]
    },
    {
      "cell_type": "code",
      "metadata": {
        "id": "ugclwlNc-2Qf",
        "colab_type": "code",
        "colab": {
          "base_uri": "https://localhost:8080/",
          "height": 282
        },
        "outputId": "5b0c9d7c-2dae-4ebb-a859-42336f8f209e"
      },
      "source": [
        "# Plotting the Linear regression line\n",
        "line = model.coef_ * x + model.intercept_\n",
        "\n",
        "# Plotting for the test data\n",
        "plt.rcParams['axes.facecolor'] = 'green'\n",
        "plt.scatter(x, y,color ='#FFFF00')\n",
        "plt.plot(x, line, color='black')\n",
        "plt.show()\n",
        "model.coef_,model.intercept_"
      ],
      "execution_count": 196,
      "outputs": [
        {
          "output_type": "display_data",
          "data": {
            "image/png": "[encoded data removed]",
            "text/plain": [
              "<Figure size 432x288 with 1 Axes>"
            ]
          },
          "metadata": {
            "tags": [],
            "needs_background": "light"
          }
        },
        {
          "output_type": "execute_result",
          "data": {
            "text/plain": [
              "(array([9.91065648]), 2.018160041434662)"
            ]
          },
          "metadata": {
            "tags": []
          },
          "execution_count": 196
        }
      ]
    },
    {
      "cell_type": "markdown",
      "metadata": {
        "id": "e1jc78XGY2t-",
        "colab_type": "text"
      },
      "source": [
        "**Testing the data and finding its accuracy**"
      ]
    },
    {
      "cell_type": "code",
      "metadata": {
        "id": "kH65TYmWCqcZ",
        "colab_type": "code",
        "colab": {
          "base_uri": "https://localhost:8080/",
          "height": 34
        },
        "outputId": "50a105e3-ed15-4d11-e885-93c9d3ec17f0"
      },
      "source": [
        "# Predicting the Result\n",
        "y_pred = model.predict(X_test)\n",
        "y_pred"
      ],
      "execution_count": 168,
      "outputs": [
        {
          "output_type": "execute_result",
          "data": {
            "text/plain": [
              "array([16.88414476, 33.73226078, 75.357018  , 26.79480124, 60.49103328])"
            ]
          },
          "metadata": {
            "tags": []
          },
          "execution_count": 168
        }
      ]
    },
    {
      "cell_type": "code",
      "metadata": {
        "id": "IOrdx4_ZDo5w",
        "colab_type": "code",
        "colab": {
          "base_uri": "https://localhost:8080/",
          "height": 204
        },
        "outputId": "352611ec-efa4-454b-c827-6cf9fcb3626d"
      },
      "source": [
        "# Comparing Actual vs Predicted\n",
        "pred_data = pd.DataFrame({'Actual': y_test, 'Predicted': y_pred})  \n",
        "pred_data"
      ],
      "execution_count": 169,
      "outputs": [
        {
          "output_type": "execute_result",
          "data": {
            "text/html": [
              "<div>\n",
              "<style scoped>\n",
              "    .dataframe tbody tr th:only-of-type {\n",
              "        vertical-align: middle;\n",
              "    }\n",
              "\n",
              "    .dataframe tbody tr th {\n",
              "        vertical-align: top;\n",
              "    }\n",
              "\n",
              "    .dataframe thead th {\n",
              "        text-align: right;\n",
              "    }\n",
              "</style>\n",
              "<table border=\"1\" class=\"dataframe\">\n",
              "  <thead>\n",
              "    <tr style=\"text-align: right;\">\n",
              "      <th></th>\n",
              "      <th>Actual</th>\n",
              "      <th>Predicted</th>\n",
              "    </tr>\n",
              "  </thead>\n",
              "  <tbody>\n",
              "    <tr>\n",
              "      <th>0</th>\n",
              "      <td>20</td>\n",
              "      <td>16.88</td>\n",
              "    </tr>\n",
              "    <tr>\n",
              "      <th>1</th>\n",
              "      <td>27</td>\n",
              "      <td>33.73</td>\n",
              "    </tr>\n",
              "    <tr>\n",
              "      <th>2</th>\n",
              "      <td>69</td>\n",
              "      <td>75.36</td>\n",
              "    </tr>\n",
              "    <tr>\n",
              "      <th>3</th>\n",
              "      <td>30</td>\n",
              "      <td>26.79</td>\n",
              "    </tr>\n",
              "    <tr>\n",
              "      <th>4</th>\n",
              "      <td>62</td>\n",
              "      <td>60.49</td>\n",
              "    </tr>\n",
              "  </tbody>\n",
              "</table>\n",
              "</div>"
            ],
            "text/plain": [
              "   Actual  Predicted\n",
              "0      20      16.88\n",
              "1      27      33.73\n",
              "2      69      75.36\n",
              "3      30      26.79\n",
              "4      62      60.49"
            ]
          },
          "metadata": {
            "tags": []
          },
          "execution_count": 169
        }
      ]
    },
    {
      "cell_type": "code",
      "metadata": {
        "id": "HPsiBtuXGfgH",
        "colab_type": "code",
        "colab": {
          "base_uri": "https://localhost:8080/",
          "height": 353
        },
        "outputId": "fa8f0fd5-d640-4434-b597-935e241fa6ce"
      },
      "source": [
        "# Comparing Actual vs Predicted score through bar plot\n",
        "l = []\n",
        "for i in y_test:\n",
        "  l.append(i)\n",
        "for i in y_pred:\n",
        "  l.append(i)\n",
        "l = np.array(l)\n",
        "l = l.reshape(2,5)\n",
        "data = l\n",
        "X = np.arange(5)\n",
        "fig = plt.figure()\n",
        "plt.rcParams['axes.facecolor'] = 'white'\n",
        "ax = fig.add_axes([0,0,1,1])\n",
        "ax.bar(X + 0.00, data[0], color = 'green', width = 0.25)\n",
        "ax.bar(X + 0.25, data[1], color = 'yellow', width = 0.25)"
      ],
      "execution_count": 170,
      "outputs": [
        {
          "output_type": "execute_result",
          "data": {
            "text/plain": [
              "<BarContainer object of 5 artists>"
            ]
          },
          "metadata": {
            "tags": []
          },
          "execution_count": 170
        },
        {
          "output_type": "display_data",
          "data": {
            "image/png": "[encoded data removed]",
            "text/plain": [
              "<Figure size 432x288 with 1 Axes>"
            ]
          },
          "metadata": {
            "tags": [],
            "needs_background": "light"
          }
        }
      ]
    },
    {
      "cell_type": "code",
      "metadata": {
        "id": "pWmEsw9UOKtZ",
        "colab_type": "code",
        "colab": {
          "base_uri": "https://localhost:8080/",
          "height": 51
        },
        "outputId": "6189938a-a8d1-44bd-c7dd-5e77ee4df229"
      },
      "source": [
        "#Accuracy of training and testing data\n",
        "print(f'The train score:  {model.score(X_train,y_train)}')\n",
        "print(f'The test score:   {model.score(X_test,y_test)}')"
      ],
      "execution_count": 171,
      "outputs": [
        {
          "output_type": "stream",
          "text": [
            "The train score:  0.9515510725211553\n",
            "The test score:   0.9454906892105354\n"
          ],
          "name": "stdout"
        }
      ]
    },
    {
      "cell_type": "code",
      "metadata": {
        "id": "bbBKFUOsZUL4",
        "colab_type": "code",
        "colab": {
          "base_uri": "https://localhost:8080/",
          "height": 51
        },
        "outputId": "5136e870-c798-45d4-eed8-6a0126a6432c"
      },
      "source": [
        "# Calculating the mean absolute error and mean absolute error\n",
        "from sklearn.metrics import mean_absolute_error\n",
        "from sklearn.metrics import mean_squared_error\n",
        "print('mean squared error: ', mean_squared_error(y_test,y_pred))\n",
        "print('mean absolute error: ', mean_absolute_error(y_test,y_pred))\n"
      ],
      "execution_count": 218,
      "outputs": [
        {
          "output_type": "stream",
          "text": [
            "mean squared error:  21.598769307217456\n",
            "mean absolute error:  4.183859899002982\n"
          ],
          "name": "stdout"
        }
      ]
    },
    {
      "cell_type": "markdown",
      "metadata": {
        "id": "8oeHrirlZHjD",
        "colab_type": "text"
      },
      "source": [
        "**Predict the Result**"
      ]
    },
    {
      "cell_type": "code",
      "metadata": {
        "id": "lZn027swDGw4",
        "colab_type": "code",
        "colab": {
          "base_uri": "https://localhost:8080/",
          "height": 51
        },
        "outputId": "f2f47ebe-6611-476c-b280-85a02eeaa8b2"
      },
      "source": [
        "# Predicting the result for the input of 9.25 Hours \n",
        "hours = [[9.25]]\n",
        "pred1 = model.predict(hours)\n",
        "print(\"Number of Hours = {}\".format(hours))\n",
        "print(\"Predicted Score = {}\".format(pred1))"
      ],
      "execution_count": 172,
      "outputs": [
        {
          "output_type": "stream",
          "text": [
            "Number of Hours = [[9.25]]\n",
            "Predicted Score = [93.69173249]\n"
          ],
          "name": "stdout"
        }
      ]
    },
    {
      "cell_type": "markdown",
      "metadata": {
        "id": "dlXzDXImZ25J",
        "colab_type": "text"
      },
      "source": [
        "**Optional**"
      ]
    },
    {
      "cell_type": "markdown",
      "metadata": {
        "id": "VbvQ7c6mZ7tq",
        "colab_type": "text"
      },
      "source": [
        "To predict the best algorithm with the best accuracy we installed lazypredict, XGBoost and lightgbm"
      ]
    },
    {
      "cell_type": "code",
      "metadata": {
        "id": "SUdUC8LAPKV1",
        "colab_type": "code",
        "colab": {
          "base_uri": "https://localhost:8080/",
          "height": 131
        },
        "outputId": "d6dec83c-010a-4194-ce74-d265ee2c9817"
      },
      "source": [
        "# Installation lazypredict and XGBoost\n",
        "!pip install lazypredict\n",
        "!pip install xgboost"
      ],
      "execution_count": 175,
      "outputs": [
        {
          "output_type": "stream",
          "text": [
            "Requirement already satisfied: lazypredict in /usr/local/lib/python3.6/dist-packages (0.2.7)\n",
            "Requirement already satisfied: Click>=7.0 in /usr/local/lib/python3.6/dist-packages (from lazypredict) (7.1.2)\n",
            "Requirement already satisfied: xgboost in /usr/local/lib/python3.6/dist-packages (0.90)\n",
            "Requirement already satisfied: numpy in /usr/local/lib/python3.6/dist-packages (from xgboost) (1.18.5)\n",
            "Requirement already satisfied: scipy in /usr/local/lib/python3.6/dist-packages (from xgboost) (1.4.1)\n"
          ],
          "name": "stdout"
        }
      ]
    },
    {
      "cell_type": "code",
      "metadata": {
        "id": "3mqJkNoXO7RV",
        "colab_type": "code",
        "colab": {}
      },
      "source": [
        "import xgboost as xgb\n",
        "from lazypredict.Supervised import LazyRegressor"
      ],
      "execution_count": 176,
      "outputs": []
    },
    {
      "cell_type": "code",
      "metadata": {
        "id": "QCCmjBYCPWsu",
        "colab_type": "code",
        "colab": {
          "base_uri": "https://localhost:8080/",
          "height": 131
        },
        "outputId": "8685fd8a-166d-4863-f9a4-393385ffdc9c"
      },
      "source": [
        "# Installation of lightgbm\n",
        "!pip install lightgbm"
      ],
      "execution_count": 177,
      "outputs": [
        {
          "output_type": "stream",
          "text": [
            "Requirement already satisfied: lightgbm in /usr/local/lib/python3.6/dist-packages (2.2.3)\n",
            "Requirement already satisfied: scikit-learn in /usr/local/lib/python3.6/dist-packages (from lightgbm) (0.22.2.post1)\n",
            "Requirement already satisfied: scipy in /usr/local/lib/python3.6/dist-packages (from lightgbm) (1.4.1)\n",
            "Requirement already satisfied: numpy in /usr/local/lib/python3.6/dist-packages (from lightgbm) (1.18.5)\n",
            "Requirement already satisfied: joblib>=0.11 in /usr/local/lib/python3.6/dist-packages (from scikit-learn->lightgbm) (0.16.0)\n"
          ],
          "name": "stdout"
        }
      ]
    },
    {
      "cell_type": "code",
      "metadata": {
        "id": "25PbuCg-Pahy",
        "colab_type": "code",
        "colab": {
          "base_uri": "https://localhost:8080/",
          "height": 111
        },
        "outputId": "eb3d1e91-6fe4-4335-8c1d-9ad91bad7083"
      },
      "source": [
        "# Fitting the data into the model\n",
        "clf = LazyRegressor(ignore_warnings=True)\n",
        "model1, predictions = clf.fit(X_train, X_test, y_train, y_test)"
      ],
      "execution_count": 178,
      "outputs": [
        {
          "output_type": "stream",
          "text": [
            "100%|██████████| 39/39 [00:00<00:00, 47.13it/s]"
          ],
          "name": "stderr"
        },
        {
          "output_type": "stream",
          "text": [
            "[12:53:53] WARNING: /workspace/src/objective/regression_obj.cu:152: reg:linear is now deprecated in favor of reg:squarederror.\n"
          ],
          "name": "stdout"
        },
        {
          "output_type": "stream",
          "text": [
            "\n"
          ],
          "name": "stderr"
        }
      ]
    },
    {
      "cell_type": "code",
      "metadata": {
        "id": "loi5XqUEPgfy",
        "colab_type": "code",
        "colab": {
          "base_uri": "https://localhost:8080/",
          "height": 1000
        },
        "outputId": "36a1008c-13c6-4ff7-e5b1-7a3a8ef6084a"
      },
      "source": [
        "# Predicting the best algorithm with least RMSE\n",
        "model1"
      ],
      "execution_count": 179,
      "outputs": [
        {
          "output_type": "execute_result",
          "data": {
            "text/html": [
              "<div>\n",
              "<style scoped>\n",
              "    .dataframe tbody tr th:only-of-type {\n",
              "        vertical-align: middle;\n",
              "    }\n",
              "\n",
              "    .dataframe tbody tr th {\n",
              "        vertical-align: top;\n",
              "    }\n",
              "\n",
              "    .dataframe thead th {\n",
              "        text-align: right;\n",
              "    }\n",
              "</style>\n",
              "<table border=\"1\" class=\"dataframe\">\n",
              "  <thead>\n",
              "    <tr style=\"text-align: right;\">\n",
              "      <th></th>\n",
              "      <th>R-Squared</th>\n",
              "      <th>RMSE</th>\n",
              "      <th>Time Taken</th>\n",
              "    </tr>\n",
              "    <tr>\n",
              "      <th>Model</th>\n",
              "      <th></th>\n",
              "      <th></th>\n",
              "      <th></th>\n",
              "    </tr>\n",
              "  </thead>\n",
              "  <tbody>\n",
              "    <tr>\n",
              "      <th>Ridge</th>\n",
              "      <td>0.95</td>\n",
              "      <td>4.39</td>\n",
              "      <td>0.01</td>\n",
              "    </tr>\n",
              "    <tr>\n",
              "      <th>Lasso</th>\n",
              "      <td>0.95</td>\n",
              "      <td>4.41</td>\n",
              "      <td>0.01</td>\n",
              "    </tr>\n",
              "    <tr>\n",
              "      <th>ElasticNetCV</th>\n",
              "      <td>0.95</td>\n",
              "      <td>4.48</td>\n",
              "      <td>0.05</td>\n",
              "    </tr>\n",
              "    <tr>\n",
              "      <th>LassoCV</th>\n",
              "      <td>0.95</td>\n",
              "      <td>4.51</td>\n",
              "      <td>0.06</td>\n",
              "    </tr>\n",
              "    <tr>\n",
              "      <th>SGDRegressor</th>\n",
              "      <td>0.95</td>\n",
              "      <td>4.59</td>\n",
              "      <td>0.01</td>\n",
              "    </tr>\n",
              "    <tr>\n",
              "      <th>RidgeCV</th>\n",
              "      <td>0.95</td>\n",
              "      <td>4.61</td>\n",
              "      <td>0.01</td>\n",
              "    </tr>\n",
              "    <tr>\n",
              "      <th>BayesianRidge</th>\n",
              "      <td>0.95</td>\n",
              "      <td>4.63</td>\n",
              "      <td>0.01</td>\n",
              "    </tr>\n",
              "    <tr>\n",
              "      <th>LinearRegression</th>\n",
              "      <td>0.95</td>\n",
              "      <td>4.65</td>\n",
              "      <td>0.01</td>\n",
              "    </tr>\n",
              "    <tr>\n",
              "      <th>LarsCV</th>\n",
              "      <td>0.95</td>\n",
              "      <td>4.65</td>\n",
              "      <td>0.01</td>\n",
              "    </tr>\n",
              "    <tr>\n",
              "      <th>Lars</th>\n",
              "      <td>0.95</td>\n",
              "      <td>4.65</td>\n",
              "      <td>0.01</td>\n",
              "    </tr>\n",
              "    <tr>\n",
              "      <th>LassoLarsIC</th>\n",
              "      <td>0.95</td>\n",
              "      <td>4.65</td>\n",
              "      <td>0.01</td>\n",
              "    </tr>\n",
              "    <tr>\n",
              "      <th>LassoLarsCV</th>\n",
              "      <td>0.95</td>\n",
              "      <td>4.65</td>\n",
              "      <td>0.01</td>\n",
              "    </tr>\n",
              "    <tr>\n",
              "      <th>OrthogonalMatchingPursuit</th>\n",
              "      <td>0.95</td>\n",
              "      <td>4.65</td>\n",
              "      <td>0.01</td>\n",
              "    </tr>\n",
              "    <tr>\n",
              "      <th>RANSACRegressor</th>\n",
              "      <td>0.95</td>\n",
              "      <td>4.65</td>\n",
              "      <td>0.01</td>\n",
              "    </tr>\n",
              "    <tr>\n",
              "      <th>TransformedTargetRegressor</th>\n",
              "      <td>0.95</td>\n",
              "      <td>4.65</td>\n",
              "      <td>0.01</td>\n",
              "    </tr>\n",
              "    <tr>\n",
              "      <th>HuberRegressor</th>\n",
              "      <td>0.94</td>\n",
              "      <td>4.82</td>\n",
              "      <td>0.01</td>\n",
              "    </tr>\n",
              "    <tr>\n",
              "      <th>LassoLars</th>\n",
              "      <td>0.93</td>\n",
              "      <td>5.25</td>\n",
              "      <td>0.01</td>\n",
              "    </tr>\n",
              "    <tr>\n",
              "      <th>PassiveAggressiveRegressor</th>\n",
              "      <td>0.92</td>\n",
              "      <td>5.80</td>\n",
              "      <td>0.01</td>\n",
              "    </tr>\n",
              "    <tr>\n",
              "      <th>KNeighborsRegressor</th>\n",
              "      <td>0.91</td>\n",
              "      <td>5.99</td>\n",
              "      <td>0.01</td>\n",
              "    </tr>\n",
              "    <tr>\n",
              "      <th>AdaBoostRegressor</th>\n",
              "      <td>0.84</td>\n",
              "      <td>8.06</td>\n",
              "      <td>0.07</td>\n",
              "    </tr>\n",
              "    <tr>\n",
              "      <th>ElasticNet</th>\n",
              "      <td>0.83</td>\n",
              "      <td>8.22</td>\n",
              "      <td>0.01</td>\n",
              "    </tr>\n",
              "    <tr>\n",
              "      <th>BaggingRegressor</th>\n",
              "      <td>0.81</td>\n",
              "      <td>8.70</td>\n",
              "      <td>0.02</td>\n",
              "    </tr>\n",
              "    <tr>\n",
              "      <th>ExtraTreesRegressor</th>\n",
              "      <td>0.80</td>\n",
              "      <td>8.93</td>\n",
              "      <td>0.08</td>\n",
              "    </tr>\n",
              "    <tr>\n",
              "      <th>RandomForestRegressor</th>\n",
              "      <td>0.79</td>\n",
              "      <td>9.11</td>\n",
              "      <td>0.14</td>\n",
              "    </tr>\n",
              "    <tr>\n",
              "      <th>XGBRegressor</th>\n",
              "      <td>0.72</td>\n",
              "      <td>10.46</td>\n",
              "      <td>0.02</td>\n",
              "    </tr>\n",
              "    <tr>\n",
              "      <th>ExtraTreeRegressor</th>\n",
              "      <td>0.71</td>\n",
              "      <td>10.72</td>\n",
              "      <td>0.01</td>\n",
              "    </tr>\n",
              "    <tr>\n",
              "      <th>GradientBoostingRegressor</th>\n",
              "      <td>0.70</td>\n",
              "      <td>10.83</td>\n",
              "      <td>0.03</td>\n",
              "    </tr>\n",
              "    <tr>\n",
              "      <th>DecisionTreeRegressor</th>\n",
              "      <td>0.70</td>\n",
              "      <td>10.92</td>\n",
              "      <td>0.01</td>\n",
              "    </tr>\n",
              "    <tr>\n",
              "      <th>GaussianProcessRegressor</th>\n",
              "      <td>0.34</td>\n",
              "      <td>16.20</td>\n",
              "      <td>0.01</td>\n",
              "    </tr>\n",
              "    <tr>\n",
              "      <th>SVR</th>\n",
              "      <td>0.28</td>\n",
              "      <td>16.87</td>\n",
              "      <td>0.01</td>\n",
              "    </tr>\n",
              "    <tr>\n",
              "      <th>NuSVR</th>\n",
              "      <td>-0.01</td>\n",
              "      <td>20.02</td>\n",
              "      <td>0.01</td>\n",
              "    </tr>\n",
              "    <tr>\n",
              "      <th>HistGradientBoostingRegressor</th>\n",
              "      <td>-0.38</td>\n",
              "      <td>23.43</td>\n",
              "      <td>0.02</td>\n",
              "    </tr>\n",
              "    <tr>\n",
              "      <th>DummyRegressor</th>\n",
              "      <td>-0.38</td>\n",
              "      <td>23.43</td>\n",
              "      <td>0.01</td>\n",
              "    </tr>\n",
              "    <tr>\n",
              "      <th>LGBMRegressor</th>\n",
              "      <td>-0.38</td>\n",
              "      <td>23.43</td>\n",
              "      <td>0.01</td>\n",
              "    </tr>\n",
              "    <tr>\n",
              "      <th>LinearSVR</th>\n",
              "      <td>-1.22</td>\n",
              "      <td>29.68</td>\n",
              "      <td>0.01</td>\n",
              "    </tr>\n",
              "    <tr>\n",
              "      <th>MLPRegressor</th>\n",
              "      <td>-3.19</td>\n",
              "      <td>40.74</td>\n",
              "      <td>0.11</td>\n",
              "    </tr>\n",
              "    <tr>\n",
              "      <th>KernelRidge</th>\n",
              "      <td>-5.96</td>\n",
              "      <td>52.52</td>\n",
              "      <td>0.01</td>\n",
              "    </tr>\n",
              "  </tbody>\n",
              "</table>\n",
              "</div>"
            ],
            "text/plain": [
              "                               R-Squared  RMSE  Time Taken\n",
              "Model                                                     \n",
              "Ridge                               0.95  4.39        0.01\n",
              "Lasso                               0.95  4.41        0.01\n",
              "ElasticNetCV                        0.95  4.48        0.05\n",
              "LassoCV                             0.95  4.51        0.06\n",
              "SGDRegressor                        0.95  4.59        0.01\n",
              "RidgeCV                             0.95  4.61        0.01\n",
              "BayesianRidge                       0.95  4.63        0.01\n",
              "LinearRegression                    0.95  4.65        0.01\n",
              "LarsCV                              0.95  4.65        0.01\n",
              "Lars                                0.95  4.65        0.01\n",
              "LassoLarsIC                         0.95  4.65        0.01\n",
              "LassoLarsCV                         0.95  4.65        0.01\n",
              "OrthogonalMatchingPursuit           0.95  4.65        0.01\n",
              "RANSACRegressor                     0.95  4.65        0.01\n",
              "TransformedTargetRegressor          0.95  4.65        0.01\n",
              "HuberRegressor                      0.94  4.82        0.01\n",
              "LassoLars                           0.93  5.25        0.01\n",
              "PassiveAggressiveRegressor          0.92  5.80        0.01\n",
              "KNeighborsRegressor                 0.91  5.99        0.01\n",
              "AdaBoostRegressor                   0.84  8.06        0.07\n",
              "ElasticNet                          0.83  8.22        0.01\n",
              "BaggingRegressor                    0.81  8.70        0.02\n",
              "ExtraTreesRegressor                 0.80  8.93        0.08\n",
              "RandomForestRegressor               0.79  9.11        0.14\n",
              "XGBRegressor                        0.72 10.46        0.02\n",
              "ExtraTreeRegressor                  0.71 10.72        0.01\n",
              "GradientBoostingRegressor           0.70 10.83        0.03\n",
              "DecisionTreeRegressor               0.70 10.92        0.01\n",
              "GaussianProcessRegressor            0.34 16.20        0.01\n",
              "SVR                                 0.28 16.87        0.01\n",
              "NuSVR                              -0.01 20.02        0.01\n",
              "HistGradientBoostingRegressor      -0.38 23.43        0.02\n",
              "DummyRegressor                     -0.38 23.43        0.01\n",
              "LGBMRegressor                      -0.38 23.43        0.01\n",
              "LinearSVR                          -1.22 29.68        0.01\n",
              "MLPRegressor                       -3.19 40.74        0.11\n",
              "KernelRidge                        -5.96 52.52        0.01"
            ]
          },
          "metadata": {
            "tags": []
          },
          "execution_count": 179
        }
      ]
    },
    {
      "cell_type": "markdown",
      "metadata": {
        "id": "mc01scX6amW0",
        "colab_type": "text"
      },
      "source": [
        "Lasso algorithm has the least RMSE"
      ]
    },
    {
      "cell_type": "code",
      "metadata": {
        "id": "7oHq5uSNRHGk",
        "colab_type": "code",
        "colab": {
          "base_uri": "https://localhost:8080/",
          "height": 102
        },
        "outputId": "6967b60e-72db-49fc-9bc7-d7941cb58569"
      },
      "source": [
        "# Implementing Lasso algorithm\n",
        "from sklearn.linear_model import Lasso\n",
        "model2 = Lasso()\n",
        "model2.fit(X_train, y_train)\n",
        "print('Train accuracy')\n",
        "print(model2.score(X_train, y_train))\n",
        "print('\\nTest accuracy')\n",
        "print(model2.score(X_test, y_test))"
      ],
      "execution_count": 182,
      "outputs": [
        {
          "output_type": "stream",
          "text": [
            "Train accuracy\n",
            "0.951297282107653\n",
            "\n",
            "Test accuracy\n",
            "0.9482597940686198\n"
          ],
          "name": "stdout"
        }
      ]
    },
    {
      "cell_type": "code",
      "metadata": {
        "id": "Bktdpjq2RU7t",
        "colab_type": "code",
        "colab": {
          "base_uri": "https://localhost:8080/",
          "height": 51
        },
        "outputId": "1cdbf387-46ec-49bc-e463-18da9c653d41"
      },
      "source": [
        "# Predicting the Result\n",
        "pred2 = model2.predict(hours)\n",
        "print(\"Number of Hours = {}\".format(hours))\n",
        "print(\"Predicted Score = {}\".format(pred2))"
      ],
      "execution_count": 181,
      "outputs": [
        {
          "output_type": "stream",
          "text": [
            "Number of Hours = [[9.25]]\n",
            "Predicted Score = [93.04269714]\n"
          ],
          "name": "stdout"
        }
      ]
    },
    {
      "cell_type": "markdown",
      "metadata": {
        "id": "-YxAdiI-a7aO",
        "colab_type": "text"
      },
      "source": [
        "**Conclusion**"
      ]
    },
    {
      "cell_type": "code",
      "metadata": {
        "id": "H9nCqc2LSndU",
        "colab_type": "code",
        "colab": {
          "base_uri": "https://localhost:8080/",
          "height": 170
        },
        "outputId": "e6b1b11b-2627-4e71-b932-22afd99ab9e8"
      },
      "source": [
        "print('Linear Regression')\n",
        "print('Test accuracy: ',model.score(X_test, y_test))\n",
        "print('Predicted score for 9.25 hours: ',pred1,'\\n')\n",
        "print('*'*50,'\\n')\n",
        "print('Lasso')\n",
        "print('Test accuracy: ',model2.score(X_test, y_test))\n",
        "print('Predicted score for 9.25 hours: ',pred2)"
      ],
      "execution_count": 208,
      "outputs": [
        {
          "output_type": "stream",
          "text": [
            "Linear Regression\n",
            "Test accuracy:  0.9454906892105354\n",
            "Predicted score for 9.25 hours:  [93.69173249] \n",
            "\n",
            "************************************************** \n",
            "\n",
            "Lasso\n",
            "Test accuracy:  0.9482597940686198\n",
            "Predicted score for 9.25 hours:  [93.04269714]\n"
          ],
          "name": "stdout"
        }
      ]
    }
  ]
}